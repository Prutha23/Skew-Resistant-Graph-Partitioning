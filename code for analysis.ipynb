{
 "cells": [
  {
   "cell_type": "code",
   "execution_count": 8,
   "metadata": {},
   "outputs": [
    {
     "name": "stdout",
     "output_type": "stream",
     "text": [
      "Collecting rdflib\n",
      "  Using cached https://files.pythonhosted.org/packages/3c/fe/630bacb652680f6d481b9febbb3e2c3869194a1a5fc3401a4a41195a2f8f/rdflib-4.2.2-py3-none-any.whl\n",
      "Requirement already satisfied: pyparsing in c:\\users\\lenovo\\anaconda3\\lib\\site-packages (from rdflib) (2.4.0)\n",
      "Collecting isodate (from rdflib)\n",
      "  Downloading https://files.pythonhosted.org/packages/9b/9f/b36f7774ff5ea8e428fdcfc4bb332c39ee5b9362ddd3d40d9516a55221b2/isodate-0.6.0-py2.py3-none-any.whl (45kB)\n",
      "Requirement already satisfied: six in c:\\users\\lenovo\\anaconda3\\lib\\site-packages (from isodate->rdflib) (1.12.0)\n",
      "Installing collected packages: isodate, rdflib\n",
      "Successfully installed isodate-0.6.0 rdflib-4.2.2\n"
     ]
    }
   ],
   "source": [
    "# Install required packages in the current Jupyter kernel\n",
    "# Uncomment the following lines if you need to install these libraries\n",
    "# If you run into permission issues, try with the --user option\n",
    "# import sys\n",
    "# !pip install -q rdflib networkx matplotlib\n",
    "# !{sys.executable} -m pip install rdflib networkx matplotlib --user\n",
    "!pip install rdflib\n",
    "# Imports\n",
    "from rdflib import Graph as RDFGraph\n",
    "from rdflib.extras.external_graph_libs import rdflib_to_networkx_graph\n",
    "import networkx as nx\n",
    "from networkx import Graph as NXGraph\n",
    "import matplotlib.pyplot as plt\n",
    "import statistics\n",
    "import collections"
   ]
  },
  {
   "cell_type": "code",
   "execution_count": null,
   "metadata": {},
   "outputs": [],
   "source": []
  },
  {
   "cell_type": "code",
   "execution_count": 46,
   "metadata": {},
   "outputs": [
    {
     "name": "stdout",
     "output_type": "stream",
     "text": [
      "Path or URI of the RDF graph to load: https://raw.githubusercontent.com/albertmeronyo/lodapi/master/ghostbusters.ttl\n"
     ]
    },
    {
     "ename": "NameError",
     "evalue": "name 'RDFGraph' is not defined",
     "output_type": "error",
     "traceback": [
      "\u001b[1;31m---------------------------------------------------------------------------\u001b[0m",
      "\u001b[1;31mNameError\u001b[0m                                 Traceback (most recent call last)",
      "\u001b[1;32m<ipython-input-46-a94fe0ce7309>\u001b[0m in \u001b[0;36m<module>\u001b[1;34m\u001b[0m\n\u001b[0;32m      1\u001b[0m \u001b[1;31m# RDF graph loading\u001b[0m\u001b[1;33m\u001b[0m\u001b[1;33m\u001b[0m\u001b[1;33m\u001b[0m\u001b[0m\n\u001b[0;32m      2\u001b[0m \u001b[0mpath\u001b[0m \u001b[1;33m=\u001b[0m \u001b[0minput\u001b[0m\u001b[1;33m(\u001b[0m\u001b[1;34m\"Path or URI of the RDF graph to load: \"\u001b[0m\u001b[1;33m)\u001b[0m\u001b[1;33m\u001b[0m\u001b[1;33m\u001b[0m\u001b[0m\n\u001b[1;32m----> 3\u001b[1;33m \u001b[0mrg\u001b[0m \u001b[1;33m=\u001b[0m \u001b[0mRDFGraph\u001b[0m\u001b[1;33m(\u001b[0m\u001b[1;33m)\u001b[0m\u001b[1;33m\u001b[0m\u001b[1;33m\u001b[0m\u001b[0m\n\u001b[0m\u001b[0;32m      4\u001b[0m \u001b[0mrg\u001b[0m\u001b[1;33m.\u001b[0m\u001b[0mparse\u001b[0m\u001b[1;33m(\u001b[0m\u001b[0mpath\u001b[0m\u001b[1;33m,\u001b[0m \u001b[0mformat\u001b[0m\u001b[1;33m=\u001b[0m\u001b[1;34m'turtle'\u001b[0m\u001b[1;33m)\u001b[0m\u001b[1;33m\u001b[0m\u001b[1;33m\u001b[0m\u001b[0m\n\u001b[0;32m      5\u001b[0m \u001b[0mprint\u001b[0m\u001b[1;33m(\u001b[0m\u001b[1;34m\"rdflib Graph loaded successfully with {} triples\"\u001b[0m\u001b[1;33m.\u001b[0m\u001b[0mformat\u001b[0m\u001b[1;33m(\u001b[0m\u001b[0mlen\u001b[0m\u001b[1;33m(\u001b[0m\u001b[0mrg\u001b[0m\u001b[1;33m)\u001b[0m\u001b[1;33m)\u001b[0m\u001b[1;33m)\u001b[0m\u001b[1;33m\u001b[0m\u001b[1;33m\u001b[0m\u001b[0m\n",
      "\u001b[1;31mNameError\u001b[0m: name 'RDFGraph' is not defined"
     ]
    }
   ],
   "source": [
    "# RDF graph loading\n",
    "path = input(\"Path or URI of the RDF graph to load: \")\n",
    "rg = RDFGraph()\n",
    "rg.parse(path, format='turtle')\n",
    "print(\"rdflib Graph loaded successfully with {} triples\".format(len(rg)))"
   ]
  },
  {
   "cell_type": "code",
   "execution_count": 44,
   "metadata": {},
   "outputs": [
    {
     "name": "stdout",
     "output_type": "stream",
     "text": [
      "\n",
      "PREFIX bsbm: <http://www4.wiwiss.fu-berlin.de/bizer/bsbm/v01/vocabulary/>\n",
      "CONSTRUCT { ?u a http://dbpedia.org/ontology/Band . ?u  http://dbpedia.org/ontology/influencedBy ?v } WHERE { ?u a http://dbpedia.org/ontology/Band . ?u  http://dbpedia.org/ontology/influencedBy ?v }\n"
     ]
    },
    {
     "ename": "NameError",
     "evalue": "name 'rg' is not defined",
     "output_type": "error",
     "traceback": [
      "\u001b[1;31m---------------------------------------------------------------------------\u001b[0m",
      "\u001b[1;31mNameError\u001b[0m                                 Traceback (most recent call last)",
      "\u001b[1;32m<ipython-input-44-d4e35b250098>\u001b[0m in \u001b[0;36m<module>\u001b[1;34m\u001b[0m\n\u001b[0;32m      9\u001b[0m CONSTRUCT {{ ?u a {} . ?u {} ?v }} WHERE {{ ?u a {} . ?u {} ?v }}\"\"\".format(entity, relation, entity, relation)\n\u001b[0;32m     10\u001b[0m \u001b[0mprint\u001b[0m\u001b[1;33m(\u001b[0m\u001b[0mquery\u001b[0m\u001b[1;33m)\u001b[0m\u001b[1;33m\u001b[0m\u001b[1;33m\u001b[0m\u001b[0m\n\u001b[1;32m---> 11\u001b[1;33m \u001b[0msubg\u001b[0m \u001b[1;33m=\u001b[0m \u001b[0mrg\u001b[0m\u001b[1;33m.\u001b[0m\u001b[0mquery\u001b[0m\u001b[1;33m(\u001b[0m\u001b[0mquery\u001b[0m\u001b[1;33m)\u001b[0m\u001b[1;33m\u001b[0m\u001b[1;33m\u001b[0m\u001b[0m\n\u001b[0m\u001b[0;32m     12\u001b[0m \u001b[0mrg\u001b[0m \u001b[1;33m=\u001b[0m \u001b[0msubg\u001b[0m\u001b[1;33m\u001b[0m\u001b[1;33m\u001b[0m\u001b[0m\n\u001b[0;32m     13\u001b[0m \u001b[1;31m#for row in rg:\u001b[0m\u001b[1;33m\u001b[0m\u001b[1;33m\u001b[0m\u001b[1;33m\u001b[0m\u001b[0m\n",
      "\u001b[1;31mNameError\u001b[0m: name 'rg' is not defined"
     ]
    }
   ],
   "source": [
    "# Subgraph construction (optional)\n",
    "#entity = input(\"Entity type to build nodes of the subgraph with: \", \n",
    "entity=\"http://dbpedia.org/ontology/Band\"\n",
    "#relation = input(\"Relation type to build edges of the subgraph with: \",)\n",
    "relation= \" http://dbpedia.org/ontology/influencedBy\"\n",
    "# TODO: Use entity and relation as parameters of a CONSTRUCT query\n",
    "query=\"\"\"\n",
    "PREFIX bsbm: <http://www4.wiwiss.fu-berlin.de/bizer/bsbm/v01/vocabulary/>\n",
    "CONSTRUCT {{ ?u a {} . ?u {} ?v }} WHERE {{ ?u a {} . ?u {} ?v }}\"\"\".format(entity, relation, entity, relation)\n",
    "print(query)\n",
    "subg = rg.query(query)\n",
    "rg = subg\n",
    "#for row in rg:\n",
    "#    print('%s' % row)"
   ]
  },
  {
   "cell_type": "code",
   "execution_count": 45,
   "metadata": {},
   "outputs": [
    {
     "ename": "NameError",
     "evalue": "name 'rdflib_to_networkx_graph' is not defined",
     "output_type": "error",
     "traceback": [
      "\u001b[1;31m---------------------------------------------------------------------------\u001b[0m",
      "\u001b[1;31mNameError\u001b[0m                                 Traceback (most recent call last)",
      "\u001b[1;32m<ipython-input-45-13a914fb74a9>\u001b[0m in \u001b[0;36m<module>\u001b[1;34m\u001b[0m\n\u001b[1;32m----> 1\u001b[1;33m \u001b[0mG\u001b[0m \u001b[1;33m=\u001b[0m \u001b[0mrdflib_to_networkx_graph\u001b[0m\u001b[1;33m(\u001b[0m\u001b[0mrg\u001b[0m\u001b[1;33m)\u001b[0m\u001b[1;33m\u001b[0m\u001b[1;33m\u001b[0m\u001b[0m\n\u001b[0m\u001b[0;32m      2\u001b[0m \u001b[0mprint\u001b[0m\u001b[1;33m(\u001b[0m\u001b[1;34m\"networkx Graph loaded successfully with length {}\"\u001b[0m\u001b[1;33m.\u001b[0m\u001b[0mformat\u001b[0m\u001b[1;33m(\u001b[0m\u001b[0mlen\u001b[0m\u001b[1;33m(\u001b[0m\u001b[0mG\u001b[0m\u001b[1;33m)\u001b[0m\u001b[1;33m)\u001b[0m\u001b[1;33m)\u001b[0m\u001b[1;33m\u001b[0m\u001b[1;33m\u001b[0m\u001b[0m\n",
      "\u001b[1;31mNameError\u001b[0m: name 'rdflib_to_networkx_graph' is not defined"
     ]
    }
   ],
   "source": [
    "G = rdflib_to_networkx_graph(rg)\n",
    "print(\"networkx Graph loaded successfully with length {}\".format(len(G)))"
   ]
  },
  {
   "cell_type": "code",
   "execution_count": 35,
   "metadata": {},
   "outputs": [
    {
     "ename": "ModuleNotFoundError",
     "evalue": "No module named 'nxmetis'",
     "output_type": "error",
     "traceback": [
      "\u001b[1;31m---------------------------------------------------------------------------\u001b[0m",
      "\u001b[1;31mModuleNotFoundError\u001b[0m                       Traceback (most recent call last)",
      "\u001b[1;32m<ipython-input-35-fce20b41c680>\u001b[0m in \u001b[0;36m<module>\u001b[1;34m\u001b[0m\n\u001b[0;32m      4\u001b[0m \u001b[1;32mfrom\u001b[0m \u001b[0mnetworkx\u001b[0m\u001b[1;33m.\u001b[0m\u001b[0malgorithms\u001b[0m \u001b[1;32mimport\u001b[0m \u001b[0mcommunity\u001b[0m\u001b[1;33m\u001b[0m\u001b[1;33m\u001b[0m\u001b[0m\n\u001b[0;32m      5\u001b[0m \u001b[1;32mimport\u001b[0m \u001b[0mrandom\u001b[0m\u001b[1;33m\u001b[0m\u001b[1;33m\u001b[0m\u001b[0m\n\u001b[1;32m----> 6\u001b[1;33m \u001b[1;32mimport\u001b[0m \u001b[0mnxmetis\u001b[0m\u001b[1;33m\u001b[0m\u001b[1;33m\u001b[0m\u001b[0m\n\u001b[0m\u001b[0;32m      7\u001b[0m \u001b[1;32mimport\u001b[0m \u001b[0mnetwork\u001b[0m\u001b[1;33m\u001b[0m\u001b[1;33m\u001b[0m\u001b[0m\n\u001b[0;32m      8\u001b[0m \u001b[1;32mimport\u001b[0m \u001b[0mutils\u001b[0m\u001b[1;33m\u001b[0m\u001b[1;33m\u001b[0m\u001b[0m\n",
      "\u001b[1;31mModuleNotFoundError\u001b[0m: No module named 'nxmetis'"
     ]
    }
   ],
   "source": [
    "#do not consider for now\n",
    "from __future__ import print_function\n",
    "from collections import defaultdict\n",
    "from networkx.algorithms import community\n",
    "import random\n",
    "\n",
    "import network\n",
    "import utils\n",
    "class Partitioner(object):\n",
    "    def __init__(self, graph):\n",
    "        self.graph = graph\n",
    "\n",
    "    @utils.timeit\n",
    "    def community_detection(self):\n",
    "        partition = community.best_partition(self.graph)\n",
    "        cd_dict = defaultdict(set)\n",
    "        for p in partition:\n",
    "            cd_dict[partition[p]].add(p)\n",
    "        return cd_dict.values()\n",
    "\n",
    "    @utils.timeit\n",
    "    def metis_partition(self, parts):\n",
    "        edgecuts, metis_list = nxmetis.partition(self.graph, parts)\n",
    "        metis_set_list = [set(l) for l in metis_list]\n",
    "        return metis_set_list\n",
    "\n",
    "    @utils.timeit\n",
    "    def random_partition(self, parts):\n",
    "        node_list = self.graph.nodes()\n",
    "        random.shuffle(node_list)\n",
    "\n",
    "        def chunks(l, n):\n",
    "            for i in xrange(0, len(l), n):\n",
    "                yield set(l[i : i + n])\n",
    "\n",
    "        rnd_list = list(chunks(node_list, len(node_list) / parts))\n",
    "        return rnd_list\n",
    "\n",
    "    def get_neighbor_set(self, node_id):\n",
    "        neighbor_list = self.graph.neighbors(node_id)\n",
    "        return set(neighbor_list)\n",
    "\n",
    "    def get_local_set(self, partition_list, node_id):\n",
    "        for partition_set in partition_list:\n",
    "            if node_id in partition_set:\n",
    "                neighbor_set = self.get_neighbor_set(node_id)\n",
    "                local_set = neighbor_set.intersection(partition_set)\n",
    "                return local_set\n",
    "        assert False and \"node_id={}\".format(node_id)\n",
    "\n",
    "    def locality_percentage(self, partition_list, note_set):\n",
    "        local = 0\n",
    "        total = 0\n",
    "        for node_id in note_set:\n",
    "            local_set_size = self.get_local_set(partition_list, node_id)\n",
    "            local += len(local_set_size)\n",
    "            total += len(self.graph.neighbors(node_id))\n",
    "        return float(local) / float(total)\n",
    "\n",
    "    @staticmethod\n",
    "    def dump_partition(partition_list):\n",
    "        for d in partition_list:\n",
    "            print(d)\n",
    "\n",
    "\n",
    "if __name__ == \"__main__\":\n",
    "    name = \"facebook\"\n",
    "    gzip_fname = utils.get_gzip_fname(\"facebook\")\n",
    "    s = network.Network.from_combined(name, gzip_fname)\n",
    "    p = Partitioner(s.graph)\n",
    "    cd_partition = p.community_detection()\n",
    "    parts = len(cd_partition)\n",
    "    ego_list = utils.collect_ego_list(name)\n",
    "    print(ego_list)\n",
    "    cd_locality = p.locality_percentage(cd_partition, ego_list)\n",
    "    print(cd_locality)\n",
    "    metis_partition = p.metis_partition(parts)\n",
    "    metis_locality = p.locality_percentage(metis_partition, ego_list)\n",
    "    print(metis_locality)\n",
    "    rnd_partition = p.random_partition(parts)\n",
    "    rnd_locality = p.locality_percentage(rnd_partition, ego_list)\n",
    "    print(rnd_locality)"
   ]
  },
  {
   "cell_type": "code",
   "execution_count": 15,
   "metadata": {},
   "outputs": [
    {
     "name": "stdout",
     "output_type": "stream",
     "text": [
      "NETWORK SIZE\n",
      "============\n",
      "The network has 9012 nodes and 50030 edges\n",
      "\n",
      "PENDANTS\n",
      "============\n",
      "The network has 61 pendants\n",
      "\n",
      "DENSITY\n",
      "============\n",
      "The network density is 0.0012321577863382738\n",
      "\n",
      "DEGREE CENTRALITY\n",
      "=================\n",
      "The mean degree centrality is 0.0012321577863381047, with stdev 0.015118593860648264\n",
      "The maximum node is http://example.org/midi/NoteOnEvent, with value 0.8997891465986018\n",
      "The minimum node is 124, with value 0.00011097547442015315\n",
      "(0.8997891465986018, 0.6549772500277439, 0.47075796249028967, 0.354344689823549, 0.3527910331816669, 0.278992342692265, 0.2653423593385862, 0.18654977250027743, 0.18610587060259684, 0.157252247253357, 0.14116080346243481, 0.1283986239041172, 0.12473643324825213, 0.11574741982021973, 0.1056486516479858, 0.10276328931306182, 0.06325602041948729, 0.05970480523804239, 0.05659749195427811, 0.05426700699145489, 0.04771945400066585, 0.046387748307624016, 0.0459438464099434, 0.03662190655865054, 0.03373654422372656, 0.030851181888802575, 0.029741427144601044, 0.024858506270114305, 0.02075241371656864, 0.020641438242148487, 0.020197536344467873, 0.01842192875374542, 0.015647541893241593, 0.015536566418821441, 0.014870713572300522, 0.014204860725779603, 0.012873155032737765, 0.01198535123737654, 0.011430473865275775, 0.010320719121074243, 0.01020974364665409, 0.010098768172233936, 0.009321939851292864, 0.008656087004771945, 0.00843413605593164, 0.0077682832094107205, 0.007213405837309955, 0.006991454888469648, 0.006658528465209189, 0.006214626567528576, 0.005548773721007657, 0.005326822772167351, 0.005104871823327045, 0.004660969925646432, 0.004549994451226279, 0.004439018976806126, 0.004328043502385972, 0.00421706802796582, 0.003995117079125513, 0.0036621906558650537, 0.003218288758184441, 0.003107313283764288, 0.002996337809344135, 0.0028853623349239816, 0.0027743868605038286, 0.0026634113860836755, 0.0025524359116635225, 0.0024414604372433694, 0.002219509488403063, 0.00210853401398291, 0.0019975585395627564, 0.0018865830651426034, 0.0017756075907224503, 0.0016646321163022973, 0.001553656641882144, 0.0013317056930418378, 0.0012207302186216847, 0.0011097547442015315, 0.0009987792697813782, 0.0008878037953612252, 0.000776828320941072, 0.0006658528465209189, 0.0005548773721007657, 0.0004439018976806126, 0.00033292642326045944, 0.0002219509488403063, 0.00011097547442015315) (1, 1, 1, 1, 1, 1, 1, 1, 1, 1, 1, 1, 1, 1, 1, 1, 1, 1, 1, 1, 1, 1, 1, 1, 1, 1, 1, 1, 1, 1, 1, 2, 1, 2, 1, 1, 1, 1, 1, 1, 1, 1, 1, 1, 1, 1, 1, 1, 2, 1, 1, 2, 3, 1, 1, 2, 1, 1, 1, 1, 1, 1, 1, 3, 1, 1, 1, 2, 1, 1, 2, 1, 3, 3, 2, 7, 2, 2, 2, 6, 2, 6448, 2195, 148, 22, 26, 61)\n"
     ]
    },
    {
     "data": {
      "image/png": "[encoded data removed]",
      "text/plain": [
       "<Figure size 432x288 with 1 Axes>"
      ]
     },
     "metadata": {
      "needs_background": "light"
     },
     "output_type": "display_data"
    },
    {
     "name": "stdout",
     "output_type": "stream",
     "text": [
      "\n"
     ]
    },
    {
     "ename": "PowerIterationFailedConvergence",
     "evalue": "(PowerIterationFailedConvergence(...), 'power iteration failed to converge within 100 iterations')",
     "output_type": "error",
     "traceback": [
      "\u001b[1;31m---------------------------------------------------------------------------\u001b[0m",
      "\u001b[1;31mPowerIterationFailedConvergence\u001b[0m           Traceback (most recent call last)",
      "\u001b[1;32m<ipython-input-15-001569533e18>\u001b[0m in \u001b[0;36m<module>\u001b[1;34m\u001b[0m\n\u001b[0;32m     65\u001b[0m \u001b[1;33m\u001b[0m\u001b[0m\n\u001b[0;32m     66\u001b[0m \u001b[1;31m# Eigenvector centrality -- mean and stdev\u001b[0m\u001b[1;33m\u001b[0m\u001b[1;33m\u001b[0m\u001b[1;33m\u001b[0m\u001b[0m\n\u001b[1;32m---> 67\u001b[1;33m \u001b[0mec\u001b[0m \u001b[1;33m=\u001b[0m \u001b[0mnx\u001b[0m\u001b[1;33m.\u001b[0m\u001b[0meigenvector_centrality\u001b[0m\u001b[1;33m(\u001b[0m\u001b[0mG\u001b[0m\u001b[1;33m)\u001b[0m\u001b[1;33m\u001b[0m\u001b[1;33m\u001b[0m\u001b[0m\n\u001b[0m\u001b[0;32m     68\u001b[0m \u001b[0mdegrees\u001b[0m \u001b[1;33m=\u001b[0m \u001b[1;33m[\u001b[0m\u001b[1;33m]\u001b[0m\u001b[1;33m\u001b[0m\u001b[1;33m\u001b[0m\u001b[0m\n\u001b[0;32m     69\u001b[0m \u001b[1;32mfor\u001b[0m \u001b[0mk\u001b[0m\u001b[1;33m,\u001b[0m\u001b[0mv\u001b[0m \u001b[1;32min\u001b[0m \u001b[0mec\u001b[0m\u001b[1;33m.\u001b[0m\u001b[0mitems\u001b[0m\u001b[1;33m(\u001b[0m\u001b[1;33m)\u001b[0m\u001b[1;33m:\u001b[0m\u001b[1;33m\u001b[0m\u001b[1;33m\u001b[0m\u001b[0m\n",
      "\u001b[1;32m<C:\\Users\\lenovo\\Anaconda3\\lib\\site-packages\\decorator.py:decorator-gen-264>\u001b[0m in \u001b[0;36meigenvector_centrality\u001b[1;34m(G, max_iter, tol, nstart, weight)\u001b[0m\n",
      "\u001b[1;32m~\\Anaconda3\\lib\\site-packages\\networkx\\utils\\decorators.py\u001b[0m in \u001b[0;36m_not_implemented_for\u001b[1;34m(not_implement_for_func, *args, **kwargs)\u001b[0m\n\u001b[0;32m     80\u001b[0m             \u001b[1;32mraise\u001b[0m \u001b[0mnx\u001b[0m\u001b[1;33m.\u001b[0m\u001b[0mNetworkXNotImplemented\u001b[0m\u001b[1;33m(\u001b[0m\u001b[0mmsg\u001b[0m\u001b[1;33m)\u001b[0m\u001b[1;33m\u001b[0m\u001b[1;33m\u001b[0m\u001b[0m\n\u001b[0;32m     81\u001b[0m         \u001b[1;32melse\u001b[0m\u001b[1;33m:\u001b[0m\u001b[1;33m\u001b[0m\u001b[1;33m\u001b[0m\u001b[0m\n\u001b[1;32m---> 82\u001b[1;33m             \u001b[1;32mreturn\u001b[0m \u001b[0mnot_implement_for_func\u001b[0m\u001b[1;33m(\u001b[0m\u001b[1;33m*\u001b[0m\u001b[0margs\u001b[0m\u001b[1;33m,\u001b[0m \u001b[1;33m**\u001b[0m\u001b[0mkwargs\u001b[0m\u001b[1;33m)\u001b[0m\u001b[1;33m\u001b[0m\u001b[1;33m\u001b[0m\u001b[0m\n\u001b[0m\u001b[0;32m     83\u001b[0m     \u001b[1;32mreturn\u001b[0m \u001b[0m_not_implemented_for\u001b[0m\u001b[1;33m\u001b[0m\u001b[1;33m\u001b[0m\u001b[0m\n\u001b[0;32m     84\u001b[0m \u001b[1;33m\u001b[0m\u001b[0m\n",
      "\u001b[1;32m~\\Anaconda3\\lib\\site-packages\\networkx\\algorithms\\centrality\\eigenvector.py\u001b[0m in \u001b[0;36meigenvector_centrality\u001b[1;34m(G, max_iter, tol, nstart, weight)\u001b[0m\n\u001b[0;32m    148\u001b[0m         \u001b[1;32mif\u001b[0m \u001b[0msum\u001b[0m\u001b[1;33m(\u001b[0m\u001b[0mabs\u001b[0m\u001b[1;33m(\u001b[0m\u001b[0mx\u001b[0m\u001b[1;33m[\u001b[0m\u001b[0mn\u001b[0m\u001b[1;33m]\u001b[0m \u001b[1;33m-\u001b[0m \u001b[0mxlast\u001b[0m\u001b[1;33m[\u001b[0m\u001b[0mn\u001b[0m\u001b[1;33m]\u001b[0m\u001b[1;33m)\u001b[0m \u001b[1;32mfor\u001b[0m \u001b[0mn\u001b[0m \u001b[1;32min\u001b[0m \u001b[0mx\u001b[0m\u001b[1;33m)\u001b[0m \u001b[1;33m<\u001b[0m \u001b[0mnnodes\u001b[0m \u001b[1;33m*\u001b[0m \u001b[0mtol\u001b[0m\u001b[1;33m:\u001b[0m\u001b[1;33m\u001b[0m\u001b[1;33m\u001b[0m\u001b[0m\n\u001b[0;32m    149\u001b[0m             \u001b[1;32mreturn\u001b[0m \u001b[0mx\u001b[0m\u001b[1;33m\u001b[0m\u001b[1;33m\u001b[0m\u001b[0m\n\u001b[1;32m--> 150\u001b[1;33m     \u001b[1;32mraise\u001b[0m \u001b[0mnx\u001b[0m\u001b[1;33m.\u001b[0m\u001b[0mPowerIterationFailedConvergence\u001b[0m\u001b[1;33m(\u001b[0m\u001b[0mmax_iter\u001b[0m\u001b[1;33m)\u001b[0m\u001b[1;33m\u001b[0m\u001b[1;33m\u001b[0m\u001b[0m\n\u001b[0m\u001b[0;32m    151\u001b[0m \u001b[1;33m\u001b[0m\u001b[0m\n\u001b[0;32m    152\u001b[0m \u001b[1;33m\u001b[0m\u001b[0m\n",
      "\u001b[1;31mPowerIterationFailedConvergence\u001b[0m: (PowerIterationFailedConvergence(...), 'power iteration failed to converge within 100 iterations')"
     ]
    }
   ],
   "source": [
    "# Analysis\n",
    "\n",
    "def mean(numbers):\n",
    "    return float(sum(numbers)) / max(len(numbers), 1)\n",
    "\n",
    "def number_of_pendants(g):\n",
    "    \"\"\"\n",
    "    Equals the number of nodes with degree 1\n",
    "    \"\"\"\n",
    "    pendants = 0\n",
    "    for u in g:\n",
    "        if g.degree[u] == 1:\n",
    "            pendants += 1\n",
    "    return pendants\n",
    "\n",
    "\n",
    "def histogram(l):\n",
    "    degree_sequence = sorted([d for n, d in list(l.items())], reverse=True)\n",
    "    degreeCount = collections.Counter(degree_sequence)\n",
    "    deg, cnt = zip(*degreeCount.items())\n",
    "    print(deg, cnt)\n",
    "    \n",
    "    fig, ax = plt.subplots()\n",
    "    plt.bar(deg, cnt, width=0.80, color='b')\n",
    "\n",
    "    plt.title(\"Histogram\")\n",
    "    plt.ylabel(\"Count\")\n",
    "    plt.xlabel(\"Value\")\n",
    "    ax.set_xticks([d + 0.4 for d in deg])\n",
    "    ax.set_xticklabels(deg)\n",
    "\n",
    "    plt.show()\n",
    "\n",
    "# Network size\n",
    "print(\"NETWORK SIZE\")\n",
    "print(\"============\")\n",
    "print(\"The network has {} nodes and {} edges\".format(G.number_of_nodes(), G.number_of_edges()))\n",
    "print()\n",
    "\n",
    "# Network size\n",
    "print(\"PENDANTS\")\n",
    "print(\"============\")\n",
    "print(\"The network has {} pendants\".format(number_of_pendants(G)))\n",
    "print()\n",
    "\n",
    "# Density\n",
    "print(\"DENSITY\")\n",
    "print(\"============\")\n",
    "print(\"The network density is {}\".format(nx.density(G)))\n",
    "print()\n",
    "\n",
    "# Degree centrality -- mean and stdev\n",
    "dc = nx.degree_centrality(G)\n",
    "degrees = []\n",
    "for k,v in dc.items():\n",
    "    degrees.append(v)\n",
    "    \n",
    "print(\"DEGREE CENTRALITY\")\n",
    "print(\"=================\")\n",
    "print(\"The mean degree centrality is {}, with stdev {}\".format(mean(degrees), statistics.stdev(degrees)))\n",
    "print(\"The maximum node is {}, with value {}\".format(max(dc, key=dc.get), max(dc.values())))\n",
    "print(\"The minimum node is {}, with value {}\".format(min(dc, key=dc.get), min(dc.values())))\n",
    "histogram(dc)\n",
    "print()\n",
    "\n",
    "# Eigenvector centrality -- mean and stdev\n",
    "ec = nx.eigenvector_centrality(G)\n",
    "degrees = []\n",
    "for k,v in ec.items():\n",
    "    degrees.append(v)\n",
    "    \n",
    "print(\"EIGENVECTOR CENTRALITY\")\n",
    "print(\"======================\")\n",
    "print(\"The mean network eigenvector centrality is {}, with stdev {}\".format(mean(degrees), statistics.stdev(degrees)))\n",
    "print(\"The maximum node is {}, with value {}\".format(max(ec, key=ec.get), max(ec.values())))\n",
    "print(\"The minimum node is {}, with value {}\".format(min(ec, key=ec.get), min(ec.values())))\n",
    "histogram(ec)\n",
    "print()\n",
    "\n",
    "# Betweenness centrality -- mean and stdev\n",
    "bc = nx.betweenness_centrality(G)\n",
    "degrees = []\n",
    "for k,v in bc.items():\n",
    "    degrees.append(v)\n",
    "print(\"BETWEENNESS CENTRALITY\")\n",
    "print(\"======================\")\n",
    "print(\"The mean betwenness centrality is {}, with stdev {}\".format(mean(degrees), statistics.stdev(degrees)))\n",
    "print(\"The maximum node is {}, with value {}\".format(max(bc, key=bc.get), max(bc.values())))\n",
    "print(\"The minimum node is {}, with value {}\".format(min(bc, key=bc.get), min(bc.values())))\n",
    "histogram(bc)\n",
    "print()\n",
    "\n",
    "\n",
    "# Connected components\n",
    "cc = list(nx.connected_components(G))\n",
    "print(\"CONNECTED COMPONENTS\")\n",
    "print(\"====================\")\n",
    "print(\"The graph has {} connected components\".format(len(cc)))\n",
    "for i,c in enumerate(cc):\n",
    "    print(\"Connected component {} has {} nodes\".format(i,len(c)))\n",
    "print()\n",
    "\n",
    "# Clusters\n",
    "cl = nx.clustering(G)\n",
    "print(\"CLUSTERS\")\n",
    "print(\"========\")\n",
    "print(\"The graph has {} clusters\".format(len(cl)))\n",
    "for i,c in enumerate(cl):\n",
    "    print(\"Cluster {} has {} nodes\".format(i,len(c)))\n",
    "print()\n",
    "    \n",
    "# Plot\n",
    "print(\"Visualizing the graph:\")\n",
    "plt.plot()\n",
    "nx.draw(G, with_labels=True, font_weight='bold')"
   ]
  }
 ],
 "metadata": {
  "kernelspec": {
   "display_name": "Python 3",
   "language": "python",
   "name": "python3"
  },
  "language_info": {
   "codemirror_mode": {
    "name": "ipython",
    "version": 3
   },
   "file_extension": ".py",
   "mimetype": "text/x-python",
   "name": "python",
   "nbconvert_exporter": "python",
   "pygments_lexer": "ipython3",
   "version": "3.7.3"
  }
 },
 "nbformat": 4,
 "nbformat_minor": 2
}
