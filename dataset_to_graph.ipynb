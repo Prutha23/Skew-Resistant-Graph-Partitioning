{
 "cells": [
  {
   "cell_type": "markdown",
   "metadata": {
    "colab_type": "text",
    "id": "SRiDKQc1WeIc"
   },
   "source": [
    "# Network Analysis of RDF Graphs\n",
    "\n",
    "In this notebook we provide basic facilities for performing network analyses of RDF graphs easily with Python [rdflib](https://github.com/RDFLib/rdflib) and [networkx](https://networkx.github.io/)\n",
    "\n",
    "We do this in 4 steps:\n",
    "1. Load an arbitrary RDF graph into rdflib\n",
    "2. Get a subgraph of relevance (optional)\n",
    "3. Convert the rdflib Graph into an networkx Graph, as shown [here](https://github.com/RDFLib/rdflib/blob/master/rdflib/extras/external_graph_libs.py)\n",
    "4. Get an network analysis report by running networkx's algorithms on that data structure"
   ]
  },
  {
   "cell_type": "code",
   "execution_count": 22,
   "metadata": {
    "colab": {
     "base_uri": "https://localhost:8080/",
     "height": 85
    },
    "colab_type": "code",
    "id": "LT-wbYsWWeIj",
    "outputId": "629a480f-8459-4b1e-e8e8-3a993d11f9f6"
   },
   "outputs": [],
   "source": [
    "# Install required packages in the current Jupyter kernel\n",
    "# Uncomment the following lines if you need to install these libraries\n",
    "# If you run into permission issues, try with the --user option\n",
    "import sys\n",
    "# !pip install -q rdflib networkx matplotlib\n",
    "# !{sys.executable} -m pip install rdflib networkx matplotlib --user\n",
    "##!pip install rdflib\n",
    "# Imports\n",
    "from rdflib import Graph as RDFGraph\n",
    "from rdflib.extras.external_graph_libs import rdflib_to_networkx_graph\n",
    "import networkx as nx\n",
    "from networkx import Graph as NXGraph\n",
    "import matplotlib.pyplot as plt\n",
    "import statistics\n",
    "import collections"
   ]
  },
  {
   "cell_type": "markdown",
   "metadata": {
    "colab_type": "text",
    "id": "exBf4g7_WeIu"
   },
   "source": [
    "## 1. Loading RDF\n",
    "\n",
    "The first thing to do is to load the RDF graph we want to perform the network analysis on. By executing the next cell, we'll be asked to fill in the path to an RDF graph. This can be any path, local or online, that we can look up.\n",
    "\n",
    "Any of the Turtle (`ttl.`) files that we include with this notebook will do; for example, `bsbm-sample.ttl`.\n",
    "But any Web location that leads to an RDF file (for example, the GitHub copy of that same file at https://raw.githubusercontent.com/albertmeronyo/rdf-network-analysis/master/bsbm-sample.ttl; or any other RDF file on the Web like https://raw.githubusercontent.com/albertmeronyo/lodapi/master/ghostbusters.ttl) will work too."
   ]
  },
  {
   "cell_type": "code",
   "execution_count": 13,
   "metadata": {
    "colab": {
     "base_uri": "https://localhost:8080/",
     "height": 51
    },
    "colab_type": "code",
    "id": "mQwT3j_vWeIx",
    "outputId": "dfcebcde-87ac-4045-e9b3-1a36b89af27d"
   },
   "outputs": [
    {
     "name": "stdout",
     "output_type": "stream",
     "text": [
      "Path or URI of the RDF graph to load: https://raw.githubusercontent.com/albertmeronyo/lodapi/master/ghostbusters.ttl\n",
      "rdflib Graph loaded successfully with 52340 triples\n"
     ]
    }
   ],
   "source": [
    "# RDF graph loading\n",
    "#https://raw.githubusercontent.com/albertmeronyo/lodapi/master/ghostbusters.ttl\n",
    "path = input(\"Path or URI of the RDF graph to load: \")\n",
    "rg = RDFGraph()\n",
    "rg.parse(path, format='ttl')\n",
    "print(\"rdflib Graph loaded successfully with {} triples\".format(len(rg)))"
   ]
  },
  {
   "cell_type": "markdown",
   "metadata": {
    "colab_type": "text",
    "id": "Ly7Ei30_WeI7"
   },
   "source": [
    "## 2. Get a subgraph out of the loaded RDF graph (optional)\n",
    "\n",
    "This cell can be skipped altogether without affecting the rest of the notebook; but it will be useful if instead of using the whole RDF grahp of the previous step, we just want to use a subgraph that's included in it.\n",
    "\n",
    "By executing the next cell, we'll be asked two things:\n",
    "\n",
    "- The URI of the ''entiy'' type we are interested in (e.g. `http://dbpedia.org/ontology/Band`)\n",
    "- The URI of the ''relation'' connecting entities we are interested in (e.g. `http://dbpedia.org/ontology/influencedBy`)\n",
    "\n",
    "Using these two, the notebook will replace the original graph with the subgraph that's constructed by those entity types and relations only."
   ]
  },
  {
   "cell_type": "code",
   "execution_count": 1,
   "metadata": {
    "colab": {
     "base_uri": "https://localhost:8080/",
     "height": 408
    },
    "colab_type": "code",
    "id": "P2J6hEHmWeI-",
    "outputId": "c2d4e778-c5a0-4fa0-87a5-6e92cd8a4760",
    "scrolled": true
   },
   "outputs": [
    {
     "ename": "SyntaxError",
     "evalue": "invalid syntax (<ipython-input-1-3d2a6f5dbd20>, line 6)",
     "output_type": "error",
     "traceback": [
      "\u001b[1;36m  File \u001b[1;32m\"<ipython-input-1-3d2a6f5dbd20>\"\u001b[1;36m, line \u001b[1;32m6\u001b[0m\n\u001b[1;33m    PREFIX bsbm: <http://www4.wiwiss.fu-berlin.de/bizer/bsbm/v01/vocabulary/>\u001b[0m\n\u001b[1;37m              ^\u001b[0m\n\u001b[1;31mSyntaxError\u001b[0m\u001b[1;31m:\u001b[0m invalid syntax\n"
     ]
    }
   ],
   "source": [
    "\"\"\"entity = input(\"Entity type to build nodes of the subgraph with: \")\n",
    "relation = input(\"Relation type to build edges of the subgraph with: \")\n",
    "\n",
    "# TODO: Use entity and relation as parameters of a CONSTRUCT query\n",
    "query = \"\"\"\n",
    "PREFIX bsbm: <http://www4.wiwiss.fu-berlin.de/bizer/bsbm/v01/vocabulary/>\n",
    "CONSTRUCT {{ ?u a {} . ?u {} ?v }} WHERE {{ ?u a {} . ?u {} ?v }}\"\"\".format(entity, relation, entity, relation)\n",
    "#print(query)\n",
    "subg = rg.query(query)\n",
    "\n",
    "rg = subg\"\"\"# Subgraph construction (optional)\n"
   ]
  },
  {
   "cell_type": "markdown",
   "metadata": {
    "colab_type": "text",
    "id": "APsaA-gTWeJH"
   },
   "source": [
    "## 3. Converting rdflib.Graph to networkx.Graph\n",
    "\n",
    "Thanks to [the great work done by the rdflib developers](https://github.com/RDFLib/rdflib/blob/master/rdflib/extras/external_graph_libs.py) this step, which converts the basic graph data structure of rdflib into its equivalent in networkx, is straightforward. Just run the next cell to make our RDF dataset ready for network analysis!"
   ]
  },
  {
   "cell_type": "code",
   "execution_count": 14,
   "metadata": {
    "colab": {
     "base_uri": "https://localhost:8080/",
     "height": 34
    },
    "colab_type": "code",
    "id": "hfcgFh0-WeJI",
    "outputId": "92c36919-59ec-4634-bc4d-160c05bb906d"
   },
   "outputs": [
    {
     "name": "stdout",
     "output_type": "stream",
     "text": [
      "networkx Graph loaded successfully with length 9012\n"
     ]
    }
   ],
   "source": [
    "# Conversion of rdflib.Graph to networkx.Graph\n",
    "G = rdflib_to_networkx_graph(rg)\n",
    "print(\"networkx Graph loaded successfully with length {}\".format(len(G)))"
   ]
  },
  {
   "cell_type": "code",
   "execution_count": 7,
   "metadata": {
    "colab": {
     "base_uri": "https://localhost:8080/",
     "height": 1000
    },
    "colab_type": "code",
    "id": "kFeyTRoyWeJS",
    "outputId": "d652e9ee-0d1f-4cc3-c033-85f09dbaf675"
   },
   "outputs": [
    {
     "name": "stdout",
     "output_type": "stream",
     "text": [
      "NETWORK SIZE\n",
      "============\n",
      "The network has 9012 nodes and 50030 edges\n",
      "\n",
      "PENDANTS\n",
      "============\n",
      "The network has 61 pendants\n",
      "\n",
      "DENSITY\n",
      "============\n",
      "The network density is 0.0012321577863382738\n",
      "\n",
      "DEGREE CENTRALITY\n",
      "=================\n",
      "The mean degree centrality is 0.0012321577863380999, with stdev 0.015118593860648264\n",
      "The maximum node is http://example.org/midi/NoteOnEvent, with value 0.8997891465986018\n",
      "The minimum node is http://example.org/midi/programs/78, with value 0.00011097547442015315\n",
      "(0.8997891465986018, 0.6549772500277439, 0.47075796249028967, 0.354344689823549, 0.3527910331816669, 0.278992342692265, 0.2653423593385862, 0.18654977250027743, 0.18610587060259684, 0.157252247253357, 0.14116080346243481, 0.1283986239041172, 0.12473643324825213, 0.11574741982021973, 0.1056486516479858, 0.10276328931306182, 0.06325602041948729, 0.05970480523804239, 0.05659749195427811, 0.05426700699145489, 0.04771945400066585, 0.046387748307624016, 0.0459438464099434, 0.03662190655865054, 0.03373654422372656, 0.030851181888802575, 0.029741427144601044, 0.024858506270114305, 0.02075241371656864, 0.020641438242148487, 0.020197536344467873, 0.01842192875374542, 0.015647541893241593, 0.015536566418821441, 0.014870713572300522, 0.014204860725779603, 0.012873155032737765, 0.01198535123737654, 0.011430473865275775, 0.010320719121074243, 0.01020974364665409, 0.010098768172233936, 0.009321939851292864, 0.008656087004771945, 0.00843413605593164, 0.0077682832094107205, 0.007213405837309955, 0.006991454888469648, 0.006658528465209189, 0.006214626567528576, 0.005548773721007657, 0.005326822772167351, 0.005104871823327045, 0.004660969925646432, 0.004549994451226279, 0.004439018976806126, 0.004328043502385972, 0.00421706802796582, 0.003995117079125513, 0.0036621906558650537, 0.003218288758184441, 0.003107313283764288, 0.002996337809344135, 0.0028853623349239816, 0.0027743868605038286, 0.0026634113860836755, 0.0025524359116635225, 0.0024414604372433694, 0.002219509488403063, 0.00210853401398291, 0.0019975585395627564, 0.0018865830651426034, 0.0017756075907224503, 0.0016646321163022973, 0.001553656641882144, 0.0013317056930418378, 0.0012207302186216847, 0.0011097547442015315, 0.0009987792697813782, 0.0008878037953612252, 0.000776828320941072, 0.0006658528465209189, 0.0005548773721007657, 0.0004439018976806126, 0.00033292642326045944, 0.0002219509488403063, 0.00011097547442015315) (1, 1, 1, 1, 1, 1, 1, 1, 1, 1, 1, 1, 1, 1, 1, 1, 1, 1, 1, 1, 1, 1, 1, 1, 1, 1, 1, 1, 1, 1, 1, 2, 1, 2, 1, 1, 1, 1, 1, 1, 1, 1, 1, 1, 1, 1, 1, 1, 2, 1, 1, 2, 3, 1, 1, 2, 1, 1, 1, 1, 1, 1, 1, 3, 1, 1, 1, 2, 1, 1, 2, 1, 3, 3, 2, 7, 2, 2, 2, 6, 2, 6448, 2195, 148, 22, 26, 61)\n"
     ]
    },
    {
     "data": {
      "image/png": "[encoded data removed]",
      "text/plain": [
       "<Figure size 432x288 with 1 Axes>"
      ]
     },
     "metadata": {
      "needs_background": "light"
     },
     "output_type": "display_data"
    },
    {
     "name": "stdout",
     "output_type": "stream",
     "text": [
      "\n"
     ]
    }
   ],
   "source": [
    "# Analysis\n",
    "\n",
    "def mean(numbers):\n",
    "    return float(sum(numbers)) / max(len(numbers), 1)\n",
    "\n",
    "def number_of_pendants(g):\n",
    "    \"\"\"\n",
    "    Equals the number of nodes with degree 1\n",
    "    \"\"\"\n",
    "    pendants = 0\n",
    "    for u in g:\n",
    "        if g.degree[u] == 1:\n",
    "            pendants += 1\n",
    "    return pendants\n",
    "\n",
    "\n",
    "def histogram(l):\n",
    "    degree_sequence = sorted([d for n, d in list(l.items())], reverse=True)\n",
    "    degreeCount = collections.Counter(degree_sequence)\n",
    "    deg, cnt = zip(*degreeCount.items())\n",
    "    print(deg, cnt)\n",
    "    for i,m in degreeCount:\n",
    "        print(i,m)\n",
    "    fig, ax = plt.subplots()\n",
    "    plt.bar(deg, cnt, width=0.80, color='b')\n",
    "\n",
    "    plt.title(\"Histogram\")\n",
    "    plt.ylabel(\"Count\")\n",
    "    plt.xlabel(\"Value\")\n",
    "    ax.set_xticks([d + 0.4 for d in deg])\n",
    "    ax.set_xticklabels(deg)\n",
    "\n",
    "    plt.show()\n",
    "\n",
    "# Network size\n",
    "print(\"NETWORK SIZE\")\n",
    "print(\"============\")\n",
    "print(\"The network has {} nodes and {} edges\".format(G.number_of_nodes(), G.number_of_edges()))\n",
    "print()\n",
    "\n",
    "# Network size\n",
    "print(\"PENDANTS\")\n",
    "print(\"============\")\n",
    "print(\"The network has {} pendants\".format(number_of_pendants(G)))\n",
    "print()\n",
    "\n",
    "# Density\n",
    "print(\"DENSITY\")\n",
    "print(\"============\")\n",
    "print(\"The network density is {}\".format(nx.density(G)))\n",
    "print()\n",
    "\n",
    "# Degree centrality -- mean and stdev\n",
    "dc = nx.degree_centrality(G)\n",
    "degrees = []\n",
    "for k,v in dc.items():\n",
    "    degrees.append(v)\n",
    "    \n",
    "print(\"DEGREE CENTRALITY\")\n",
    "print(\"=================\")\n",
    "print(\"The mean degree centrality is {}, with stdev {}\".format(mean(degrees), statistics.stdev(degrees)))\n",
    "print(\"The maximum node is {}, with value {}\".format(max(dc, key=dc.get), max(dc.values())))\n",
    "print(\"The minimum node is {}, with value {}\".format(min(dc, key=dc.get), min(dc.values())))\n",
    "histogram(dc)\n",
    "print()\n",
    "\n",
    "# Eigenvector centrality -- mean and stdev\n"
   ]
  },
  {
   "cell_type": "code",
   "execution_count": 11,
   "metadata": {},
   "outputs": [
    {
     "data": {
      "image/png": "[encoded data removed]",
      "text/plain": [
       "<Figure size 432x288 with 1 Axes>"
      ]
     },
     "metadata": {},
     "output_type": "display_data"
    }
   ],
   "source": [
    "nx.draw(G, with_labels=True, font_weight='bold')"
   ]
  }
 ],
 "metadata": {
  "colab": {
   "name": "rdf-network-analysis.ipynb",
   "provenance": []
  },
  "kernelspec": {
   "display_name": "Python 3",
   "language": "python",
   "name": "python3"
  },
  "language_info": {
   "codemirror_mode": {
    "name": "ipython",
    "version": 3
   },
   "file_extension": ".py",
   "mimetype": "text/x-python",
   "name": "python",
   "nbconvert_exporter": "python",
   "pygments_lexer": "ipython3",
   "version": "3.7.3"
  }
 },
 "nbformat": 4,
 "nbformat_minor": 1
}
